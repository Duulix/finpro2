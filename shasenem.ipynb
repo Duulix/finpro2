{
 "cells": [
  {
   "cell_type": "code",
   "execution_count": 28,
   "metadata": {},
   "outputs": [],
   "source": [
    "import pandas as pd\n",
    "import numpy as np\n",
    "import matplotlib.pyplot as plt\n",
    "import seaborn as sns\n",
    "from sklearn.preprocessing import StandardScaler\n",
    "from sklearn.model_selection import train_test_split\n",
    "from sklearn.linear_model import LinearRegression\n",
    "from sklearn.metrics import mean_squared_error, r2_score\n",
    "from sklearn.pipeline import Pipeline\n",
    "import plotly.express as px\n",
    "import plotly.graph_objects as go\n",
    "from sklearn.impute import SimpleImputer\n"
   ]
  },
  {
   "cell_type": "code",
   "execution_count": 29,
   "metadata": {},
   "outputs": [],
   "source": [
    "subsaharan_df=pd.read_csv('data/subsaharan-africa.csv')\n",
    "\n",
    "lowest_countries=['Chad', 'Niger', 'Burkina Faso', 'South Sudan', 'Central African Republic', 'Congo', 'Burundi', 'Malaw',  'Sierra Leone']\n",
    "\n",
    "lowest_df=subsaharan_df[subsaharan_df['Entity'].isin(lowest_countries)]"
   ]
  },
  {
   "cell_type": "code",
   "execution_count": 30,
   "metadata": {},
   "outputs": [
    {
     "name": "stdout",
     "output_type": "stream",
     "text": [
      "          Entity  Year\n",
      "822  South Sudan  2016\n",
      "823  South Sudan  2017\n",
      "824  South Sudan  2018\n",
      "825  South Sudan  2019\n",
      "826  South Sudan  2020\n"
     ]
    }
   ],
   "source": [
    "missing_gdp_rows = lowest_df[lowest_df['gdp_growth'].isna()][['Entity', 'Year']]\n",
    "\n",
    "print(missing_gdp_rows)\n"
   ]
  },
  {
   "cell_type": "code",
   "execution_count": 31,
   "metadata": {},
   "outputs": [
    {
     "name": "stdout",
     "output_type": "stream",
     "text": [
      "Error: Number of missing rows for Congo does not match the number of provided values.\n"
     ]
    }
   ],
   "source": [
    "#Filling in missing GDP Growth values for Congo\n",
    "\n",
    "missing_gdp_rows = lowest_df[lowest_df['gdp_growth'].isna()][['Entity', 'Year']]\n",
    "\n",
    "gdp_growth_values=[7.575980395, 3.80260189, 4.58187006, 0.8132640, 3.476631621, 7.755758978, 7.986238363, -6.613994804, 6.306375956,11.63728886, 9.931265431, 2.205919363, 9.947153143, -0.712434452, 6.646065409, \t0.415193061, -8.685243439, -5.594773719, -2.304317801 , 1.124477074, -6.267777996\n",
    "]\n",
    "\n",
    "congo_missing_rows = lowest_df[(lowest_df['Entity'] == 'Congo') & (lowest_df['gdp_growth'].isna())].index\n",
    "\n",
    "if len(congo_missing_rows) == len(gdp_growth_values):\n",
    "    lowest_df.loc[congo_missing_rows, 'gdp_growth'] = gdp_growth_values\n",
    "else:\n",
    "    print(\"Error: Number of missing rows for Congo does not match the number of provided values.\")\n"
   ]
  },
  {
   "cell_type": "code",
   "execution_count": 32,
   "metadata": {},
   "outputs": [
    {
     "name": "stdout",
     "output_type": "stream",
     "text": [
      "Empty DataFrame\n",
      "Columns: [Unnamed: 0.1, Unnamed: 0, Entity, Year, Access to electricity (% of population), Access to clean fuels for cooking, Renewable-electricity-generating-capacity-per-capita, Financial flows to developing countries (US $), Renewable energy share in the total final energy consumption (%), Electricity from fossil fuels (TWh), Electricity from nuclear (TWh), Electricity from renewables (TWh), Low-carbon electricity (% electricity), Primary energy consumption per capita (kWh/person), Energy intensity level of primary energy (MJ/$2017 PPP GDP), Value_co2_emissions_kt_by_country, Renewables (% equivalent primary energy), gdp_growth, gdp_per_capita, Density\\n(P/Km2), Land Area(Km2), Latitude, Longitude]\n",
      "Index: []\n",
      "\n",
      "[0 rows x 23 columns]\n"
     ]
    }
   ],
   "source": [
    "# Check if there are any missing values left\n",
    "print(lowest_df[(lowest_df['Entity'] == 'Congo') & (lowest_df['gdp_growth'].isna())])\n"
   ]
  },
  {
   "cell_type": "code",
   "execution_count": 33,
   "metadata": {},
   "outputs": [
    {
     "data": {
      "text/plain": [
       "Unnamed: 0.1                                                          0\n",
       "Unnamed: 0                                                            0\n",
       "Entity                                                                0\n",
       "Year                                                                  0\n",
       "Access to electricity (% of population)                               0\n",
       "Access to clean fuels for cooking                                     0\n",
       "Renewable-electricity-generating-capacity-per-capita                  0\n",
       "Financial flows to developing countries (US $)                       68\n",
       "Renewable energy share in the total final energy consumption (%)      7\n",
       "Electricity from fossil fuels (TWh)                                   0\n",
       "Electricity from nuclear (TWh)                                        0\n",
       "Electricity from renewables (TWh)                                     0\n",
       "Low-carbon electricity (% electricity)                                0\n",
       "Primary energy consumption per capita (kWh/person)                    0\n",
       "Energy intensity level of primary energy (MJ/$2017 PPP GDP)           7\n",
       "Value_co2_emissions_kt_by_country                                    27\n",
       "Renewables (% equivalent primary energy)                            147\n",
       "gdp_growth                                                            0\n",
       "gdp_per_capita                                                        0\n",
       "Density\\n(P/Km2)                                                      0\n",
       "Land Area(Km2)                                                        0\n",
       "Latitude                                                              0\n",
       "Longitude                                                             0\n",
       "dtype: int64"
      ]
     },
     "execution_count": 33,
     "metadata": {},
     "output_type": "execute_result"
    }
   ],
   "source": [
    "\n",
    "#Dropping South Sudan completely due to missing data\n",
    "\n",
    "lowest_df = lowest_df[lowest_df['Entity'] != 'South Sudan']\n",
    "\n",
    "lowest_df.isna().sum()"
   ]
  },
  {
   "cell_type": "code",
   "execution_count": 34,
   "metadata": {},
   "outputs": [
    {
     "name": "stdout",
     "output_type": "stream",
     "text": [
      "Error: Number of missing rows for Congo does not match the number of provided values.\n"
     ]
    }
   ],
   "source": [
    "#Filling in GDP per capita values for Congo\n",
    "\n",
    "missing_gdp = lowest_df[lowest_df['gdp_per_capita'].isna()][['Entity', 'Year']]\n",
    "\n",
    "gdp_values=[859.4400125,\t910.8697108,\t1023.088496,\t1314.411281,\t1810.588942,\t2116.868943,\t2219.912307,\t2848.653163,\t2283.949872,\t2962.762481,\t3415.062374,\t3753.860928,\t3719.651036, 3623.827057,\t2455.340858,\t2107.518618,\t2227.732609, 2715.260418,\t2508.940444,\t2011.28344]\n",
    "congo_missing_gdp = lowest_df[(lowest_df['Entity'] == 'Congo') & (lowest_df['gdp_per_capita'].isna())].index\n",
    "\n",
    "if len(congo_missing_rows) == len(gdp_growth_values):\n",
    "    # Assign the values from the list to the missing gdp_growth rows for Congo\n",
    "    lowest_df.loc[congo_missing_gdp, 'gdp_per_capita'] = gdp_growth_values\n",
    "else:\n",
    "    print(\"Error: Number of missing rows for Congo does not match the number of provided values.\")\n"
   ]
  },
  {
   "cell_type": "code",
   "execution_count": null,
   "metadata": {},
   "outputs": [],
   "source": []
  },
  {
   "cell_type": "code",
   "execution_count": 35,
   "metadata": {},
   "outputs": [
    {
     "name": "stdout",
     "output_type": "stream",
     "text": [
      "Empty DataFrame\n",
      "Columns: [Unnamed: 0.1, Unnamed: 0, Entity, Year, Access to electricity (% of population), Access to clean fuels for cooking, Renewable-electricity-generating-capacity-per-capita, Financial flows to developing countries (US $), Renewable energy share in the total final energy consumption (%), Electricity from fossil fuels (TWh), Electricity from nuclear (TWh), Electricity from renewables (TWh), Low-carbon electricity (% electricity), Primary energy consumption per capita (kWh/person), Energy intensity level of primary energy (MJ/$2017 PPP GDP), Value_co2_emissions_kt_by_country, Renewables (% equivalent primary energy), gdp_growth, gdp_per_capita, Density\\n(P/Km2), Land Area(Km2), Latitude, Longitude]\n",
      "Index: []\n",
      "\n",
      "[0 rows x 23 columns]\n"
     ]
    }
   ],
   "source": [
    "print(lowest_df[(lowest_df['Entity'] == 'Congo') & (lowest_df['gdp_per_capita'].isna())])\n"
   ]
  },
  {
   "cell_type": "code",
   "execution_count": 36,
   "metadata": {},
   "outputs": [
    {
     "data": {
      "text/plain": [
       "Unnamed: 0.1                                                          0\n",
       "Unnamed: 0                                                            0\n",
       "Entity                                                                0\n",
       "Year                                                                  0\n",
       "Access to electricity (% of population)                               0\n",
       "Access to clean fuels for cooking                                     0\n",
       "Renewable-electricity-generating-capacity-per-capita                  0\n",
       "Financial flows to developing countries (US $)                       68\n",
       "Renewable energy share in the total final energy consumption (%)      7\n",
       "Electricity from fossil fuels (TWh)                                   0\n",
       "Electricity from nuclear (TWh)                                        0\n",
       "Electricity from renewables (TWh)                                     0\n",
       "Low-carbon electricity (% electricity)                                0\n",
       "Primary energy consumption per capita (kWh/person)                    0\n",
       "Energy intensity level of primary energy (MJ/$2017 PPP GDP)           7\n",
       "Value_co2_emissions_kt_by_country                                    27\n",
       "Renewables (% equivalent primary energy)                            147\n",
       "gdp_growth                                                            0\n",
       "gdp_per_capita                                                        0\n",
       "Density\\n(P/Km2)                                                      0\n",
       "Land Area(Km2)                                                        0\n",
       "Latitude                                                              0\n",
       "Longitude                                                             0\n",
       "dtype: int64"
      ]
     },
     "execution_count": 36,
     "metadata": {},
     "output_type": "execute_result"
    }
   ],
   "source": [
    "lowest_df.isna().sum()"
   ]
  },
  {
   "cell_type": "code",
   "execution_count": 37,
   "metadata": {},
   "outputs": [
    {
     "name": "stdout",
     "output_type": "stream",
     "text": [
      "                       Entity  Year\n",
      "83               Burkina Faso  2020\n",
      "104                   Burundi  2020\n",
      "146  Central African Republic  2020\n",
      "167                      Chad  2020\n",
      "209                     Congo  2020\n",
      "650                     Niger  2020\n",
      "776              Sierra Leone  2020\n"
     ]
    }
   ],
   "source": [
    "missing_target = lowest_df[lowest_df['Renewable energy share in the total final energy consumption (%)'].isna()][['Entity', 'Year']]\n",
    "print(missing_target)"
   ]
  },
  {
   "cell_type": "code",
   "execution_count": 38,
   "metadata": {},
   "outputs": [
    {
     "name": "stdout",
     "output_type": "stream",
     "text": [
      "                       Entity  Year  \\\n",
      "83               Burkina Faso  2020   \n",
      "104                   Burundi  2020   \n",
      "146  Central African Republic  2020   \n",
      "167                      Chad  2020   \n",
      "209                     Congo  2020   \n",
      "650                     Niger  2020   \n",
      "776              Sierra Leone  2020   \n",
      "\n",
      "     Renewable energy share in the total final energy consumption (%)  \n",
      "83                                             78.3460                 \n",
      "104                                            92.4315                 \n",
      "146                                            91.8745                 \n",
      "167                                            81.3905                 \n",
      "209                                            63.7135                 \n",
      "650                                            82.9415                 \n",
      "776                                            82.0955                 \n"
     ]
    }
   ],
   "source": [
    "countries_with_missing_values = ['Burkina Faso', 'Burundi', 'Central African Republic', 'Chad', 'Congo', 'Niger', 'Sierra Leone']\n",
    "\n",
    "for country in countries_with_missing_values:\n",
    "    country_data = lowest_df[(lowest_df['Entity'] == country) & (lowest_df['Year'] < 2020)]\n",
    "    \n",
    "    mean_renewable_share = country_data['Renewable energy share in the total final energy consumption (%)'].mean()\n",
    "    \n",
    "    lowest_df.loc[(lowest_df['Entity'] == country) & (lowest_df['Year'] == 2020), 'Renewable energy share in the total final energy consumption (%)'] = mean_renewable_share\n",
    "\n",
    "\n",
    "print(lowest_df[(lowest_df['Entity'].isin(countries_with_missing_values)) & (lowest_df['Year'] == 2020)][['Entity', 'Year', 'Renewable energy share in the total final energy consumption (%)']])\n"
   ]
  },
  {
   "cell_type": "code",
   "execution_count": 39,
   "metadata": {},
   "outputs": [
    {
     "data": {
      "text/plain": [
       "Unnamed: 0.1                                                        0\n",
       "Unnamed: 0                                                          0\n",
       "Entity                                                              0\n",
       "Year                                                                0\n",
       "Access to electricity (% of population)                             0\n",
       "Access to clean fuels for cooking                                   0\n",
       "Renewable-electricity-generating-capacity-per-capita                0\n",
       "Renewable energy share in the total final energy consumption (%)    0\n",
       "Electricity from fossil fuels (TWh)                                 0\n",
       "Electricity from nuclear (TWh)                                      0\n",
       "Electricity from renewables (TWh)                                   0\n",
       "Low-carbon electricity (% electricity)                              0\n",
       "Primary energy consumption per capita (kWh/person)                  0\n",
       "gdp_growth                                                          0\n",
       "gdp_per_capita                                                      0\n",
       "dtype: int64"
      ]
     },
     "execution_count": 39,
     "metadata": {},
     "output_type": "execute_result"
    }
   ],
   "source": [
    "\n",
    "lowest_df = lowest_df.drop(columns=['Renewables (% equivalent primary energy)', 'Energy intensity level of primary energy (MJ/$2017 PPP GDP)', 'Value_co2_emissions_kt_by_country', 'Latitude', 'Longitude', 'Land Area(Km2)','Financial flows to developing countries (US $)'])\n",
    "\n",
    "lowest_df=lowest_df.drop(columns=['Density\\\\n(P/Km2)'])\n",
    "\n",
    "lowest_df.columns\n",
    "lowest_df.isna().sum()"
   ]
  },
  {
   "cell_type": "code",
   "execution_count": 40,
   "metadata": {},
   "outputs": [],
   "source": [
    "lowest_df.to_csv(\"data/lowest_df_cleaned.csv\")"
   ]
  },
  {
   "cell_type": "markdown",
   "metadata": {},
   "source": [
    "At this point data is cleaned !"
   ]
  },
  {
   "cell_type": "code",
   "execution_count": 41,
   "metadata": {},
   "outputs": [
    {
     "name": "stdout",
     "output_type": "stream",
     "text": [
      "    Unnamed: 0.1  Unnamed: 0  Year  Access to electricity (% of population)  \\\n",
      "63            63          63  2000                                 9.075020   \n",
      "64            64          64  2001                                 9.521352   \n",
      "65            65          65  2002                                 9.960099   \n",
      "66            66          66  2003                                11.400000   \n",
      "67            67          67  2004                                10.824239   \n",
      "\n",
      "    Access to clean fuels for cooking  \\\n",
      "63                                2.7   \n",
      "64                                2.9   \n",
      "65                                3.1   \n",
      "66                                3.4   \n",
      "67                                3.7   \n",
      "\n",
      "    Renewable-electricity-generating-capacity-per-capita  \\\n",
      "63                                               2.80      \n",
      "64                                               2.72      \n",
      "65                                               2.64      \n",
      "66                                               2.58      \n",
      "67                                               2.54      \n",
      "\n",
      "    Renewable energy share in the total final energy consumption (%)  \\\n",
      "63                                              85.41                  \n",
      "64                                              83.68                  \n",
      "65                                              79.34                  \n",
      "66                                              79.08                  \n",
      "67                                              83.53                  \n",
      "\n",
      "    Electricity from fossil fuels (TWh)  Electricity from nuclear (TWh)  \\\n",
      "63                                 0.22                             0.0   \n",
      "64                                 0.27                             0.0   \n",
      "65                                 0.30                             0.0   \n",
      "66                                 0.35                             0.0   \n",
      "67                                 0.37                             0.0   \n",
      "\n",
      "    Electricity from renewables (TWh)  ...  \\\n",
      "63                               0.10  ...   \n",
      "64                               0.05  ...   \n",
      "65                               0.06  ...   \n",
      "66                               0.10  ...   \n",
      "67                               0.10  ...   \n",
      "\n",
      "    Primary energy consumption per capita (kWh/person)  gdp_growth  \\\n",
      "63                                          358.42392     1.888474   \n",
      "64                                          386.41492     6.613406   \n",
      "65                                          392.56390     4.352964   \n",
      "66                                          421.10350     7.802494   \n",
      "67                                          367.58755     4.478452   \n",
      "\n",
      "    gdp_per_capita  Entity_Burkina Faso  Entity_Burundi  \\\n",
      "63      255.718687                  1.0             0.0   \n",
      "64      267.097600                  1.0             0.0   \n",
      "65      294.665389                  1.0             0.0   \n",
      "66      374.627358                  1.0             0.0   \n",
      "67      418.376660                  1.0             0.0   \n",
      "\n",
      "    Entity_Central African Republic  Entity_Chad  Entity_Congo  Entity_Niger  \\\n",
      "63                              0.0          0.0           0.0           0.0   \n",
      "64                              0.0          0.0           0.0           0.0   \n",
      "65                              0.0          0.0           0.0           0.0   \n",
      "66                              0.0          0.0           0.0           0.0   \n",
      "67                              0.0          0.0           0.0           0.0   \n",
      "\n",
      "    Entity_Sierra Leone  \n",
      "63                  0.0  \n",
      "64                  0.0  \n",
      "65                  0.0  \n",
      "66                  0.0  \n",
      "67                  0.0  \n",
      "\n",
      "[5 rows x 21 columns]\n"
     ]
    }
   ],
   "source": [
    "from sklearn.preprocessing import OneHotEncoder\n",
    "import pandas as pd\n",
    "\n",
    "# Initialize OneHotEncoder\n",
    "one_hot_encoder = OneHotEncoder(sparse_output=False)\n",
    "\n",
    "# Apply One-Hot Encoding to the 'Entity' column\n",
    "entity_encoded = one_hot_encoder.fit_transform(lowest_df[['Entity']])\n",
    "\n",
    "# Convert to DataFrame and set the same index as the original DataFrame\n",
    "entity_encoded_df = pd.DataFrame(entity_encoded, columns=one_hot_encoder.get_feature_names_out(['Entity']))\n",
    "entity_encoded_df.index = lowest_df.index  # Align indices\n",
    "\n",
    "# Drop the original 'Entity' column and concatenate the encoded columns\n",
    "lowest_df_encoded = pd.concat([lowest_df.drop('Entity', axis=1), entity_encoded_df], axis=1)\n",
    "\n",
    "# Check if the encoding has been applied correctly\n",
    "print(lowest_df_encoded.head())\n"
   ]
  },
  {
   "cell_type": "code",
   "execution_count": 42,
   "metadata": {},
   "outputs": [
    {
     "name": "stdout",
     "output_type": "stream",
     "text": [
      "(147, 20) (147,)\n"
     ]
    }
   ],
   "source": [
    "# Separate features (X) and target (y)\n",
    "X = lowest_df_encoded.drop('Renewable energy share in the total final energy consumption (%)', axis=1)\n",
    "y = lowest_df_encoded['Renewable energy share in the total final energy consumption (%)']\n",
    "\n",
    "# Verify the shapes of X and y\n",
    "print(X.shape, y.shape)\n"
   ]
  },
  {
   "cell_type": "code",
   "execution_count": 43,
   "metadata": {},
   "outputs": [
    {
     "data": {
      "text/plain": [
       "Unnamed: 0.1                                                        0\n",
       "Unnamed: 0                                                          0\n",
       "Entity                                                              0\n",
       "Year                                                                0\n",
       "Access to electricity (% of population)                             0\n",
       "Access to clean fuels for cooking                                   0\n",
       "Renewable-electricity-generating-capacity-per-capita                0\n",
       "Renewable energy share in the total final energy consumption (%)    0\n",
       "Electricity from fossil fuels (TWh)                                 0\n",
       "Electricity from nuclear (TWh)                                      0\n",
       "Electricity from renewables (TWh)                                   0\n",
       "Low-carbon electricity (% electricity)                              0\n",
       "Primary energy consumption per capita (kWh/person)                  0\n",
       "gdp_growth                                                          0\n",
       "gdp_per_capita                                                      0\n",
       "dtype: int64"
      ]
     },
     "execution_count": 43,
     "metadata": {},
     "output_type": "execute_result"
    }
   ],
   "source": [
    "lowest_df.isna().sum()\n"
   ]
  },
  {
   "cell_type": "code",
   "execution_count": 44,
   "metadata": {},
   "outputs": [
    {
     "name": "stdout",
     "output_type": "stream",
     "text": [
      "(117, 20) (30, 20) (117,) (30,)\n"
     ]
    }
   ],
   "source": [
    "from sklearn.model_selection import train_test_split\n",
    "\n",
    "# Split the data into training and testing sets\n",
    "X_train, X_test, y_train, y_test = train_test_split(X, y, test_size=0.2, random_state=42)\n",
    "\n",
    "# Verify the shape of the split datasets\n",
    "print(X_train.shape, X_test.shape, y_train.shape, y_test.shape)\n"
   ]
  },
  {
   "cell_type": "code",
   "execution_count": 45,
   "metadata": {},
   "outputs": [],
   "source": [
    "from sklearn.ensemble import RandomForestRegressor\n",
    "\n",
    "# Initialize the Random Forest Regressor\n",
    "model = RandomForestRegressor(random_state=42, n_estimators=100)\n",
    "\n",
    "# Train the model on the training data\n",
    "model.fit(X_train, y_train)\n",
    "\n",
    "# Make predictions on the test data\n",
    "y_pred = model.predict(X_test)\n"
   ]
  },
  {
   "cell_type": "code",
   "execution_count": 46,
   "metadata": {},
   "outputs": [
    {
     "name": "stdout",
     "output_type": "stream",
     "text": [
      "Mean Squared Error (MSE): 8.165762193206593\n",
      "Root Mean Squared Error (RMSE): 2.857579778974962\n",
      "R² Score: 0.9065651285777239\n"
     ]
    }
   ],
   "source": [
    "from sklearn.metrics import mean_squared_error, r2_score\n",
    "\n",
    "# Calculate evaluation metrics\n",
    "mse = mean_squared_error(y_test, y_pred)\n",
    "rmse = mse ** 0.5  # Root Mean Squared Error\n",
    "r2 = r2_score(y_test, y_pred)\n",
    "\n",
    "# Print out the evaluation results\n",
    "print(f\"Mean Squared Error (MSE): {mse}\")\n",
    "print(f\"Root Mean Squared Error (RMSE): {rmse}\")\n",
    "print(f\"R² Score: {r2}\")\n"
   ]
  },
  {
   "cell_type": "code",
   "execution_count": 47,
   "metadata": {},
   "outputs": [
    {
     "name": "stdout",
     "output_type": "stream",
     "text": [
      "Error: Number of missing rows for Congo does not match the number of provided values.\n",
      "Error: Number of missing rows for Congo does not match the number of provided values.\n"
     ]
    }
   ],
   "source": [
    "import pandas as pd\n",
    "\n",
    "subsaharan_df=pd.read_csv('data/subsaharan-africa.csv')\n",
    "\n",
    "missing_gdp_rows = subsaharan_df[subsaharan_df['gdp_growth'].isna()][['Entity', 'Year']]\n",
    "\n",
    "gdp_growth_values=[7.575980395, 3.80260189, 4.58187006, 0.8132640, 3.476631621, 7.755758978, 7.986238363, -6.613994804, 6.306375956,11.63728886, 9.931265431, 2.205919363, 9.947153143, -0.712434452, 6.646065409, \t0.415193061, -8.685243439, -5.594773719, -2.304317801 , 1.124477074, -6.267777996\n",
    "]\n",
    "\n",
    "congo_missing_rows = subsaharan_df[(subsaharan_df['Entity'] == 'Congo') & (subsaharan_df['gdp_growth'].isna())].index\n",
    "\n",
    "if len(congo_missing_rows) == len(gdp_growth_values):\n",
    "    subsaharan_df.loc[congo_missing_rows, 'gdp_growth'] = gdp_growth_values\n",
    "else:\n",
    "    print(\"Error: Number of missing rows for Congo does not match the number of provided values.\")\n",
    "\n",
    "\n",
    "missing_gdp = subsaharan_df[subsaharan_df['gdp_per_capita'].isna()][['Entity', 'Year']]\n",
    "\n",
    "gdp_values=[859.4400125,\t910.8697108,\t1023.088496,\t1314.411281,\t1810.588942,\t2116.868943,\t2219.912307,\t2848.653163,\t2283.949872,\t2962.762481,\t3415.062374,\t3753.860928,\t3719.651036, 3623.827057,\t2455.340858,\t2107.518618,\t2227.732609, 2715.260418,\t2508.940444,\t2011.28344]\n",
    "congo_missing_gdp = subsaharan_df[(subsaharan_df['Entity'] == 'Congo') & (subsaharan_df['gdp_per_capita'].isna())].index\n",
    "\n",
    "if len(congo_missing_rows) == len(gdp_growth_values):\n",
    "    # Assign the values from the list to the missing gdp_growth rows for Congo\n",
    "    subsaharan_df.loc[congo_missing_gdp, 'gdp_per_capita'] = gdp_growth_values\n",
    "else:\n",
    "    print(\"Error: Number of missing rows for Congo does not match the number of provided values.\")\n",
    "\n",
    "\n",
    "subsaharan_df.to_csv('data/subsaharan-africa.csv')"
   ]
  },
  {
   "cell_type": "code",
   "execution_count": null,
   "metadata": {},
   "outputs": [],
   "source": []
  },
  {
   "cell_type": "code",
   "execution_count": 48,
   "metadata": {},
   "outputs": [
    {
     "data": {
      "text/plain": [
       "Index(['Unnamed: 0.1', 'Unnamed: 0', 'Entity', 'Year',\n",
       "       'Access to electricity (% of population)',\n",
       "       'Access to clean fuels for cooking',\n",
       "       'Renewable-electricity-generating-capacity-per-capita',\n",
       "       'Financial flows to developing countries (US $)',\n",
       "       'Renewable energy share in the total final energy consumption (%)',\n",
       "       'Electricity from fossil fuels (TWh)', 'Electricity from nuclear (TWh)',\n",
       "       'Electricity from renewables (TWh)',\n",
       "       'Low-carbon electricity (% electricity)',\n",
       "       'Primary energy consumption per capita (kWh/person)',\n",
       "       'Energy intensity level of primary energy (MJ/$2017 PPP GDP)',\n",
       "       'Value_co2_emissions_kt_by_country',\n",
       "       'Renewables (% equivalent primary energy)', 'gdp_growth',\n",
       "       'gdp_per_capita', 'Density\\n(P/Km2)', 'Land Area(Km2)', 'Latitude',\n",
       "       'Longitude'],\n",
       "      dtype='object')"
      ]
     },
     "execution_count": 48,
     "metadata": {},
     "output_type": "execute_result"
    }
   ],
   "source": [
    "subsaharan_df.columns"
   ]
  },
  {
   "cell_type": "code",
   "execution_count": 49,
   "metadata": {},
   "outputs": [
    {
     "data": {
      "text/plain": [
       "array(['Burkina Faso', 'Burundi', 'Central African Republic', 'Chad',\n",
       "       'Congo', 'Niger', 'Sierra Leone'], dtype=object)"
      ]
     },
     "execution_count": 49,
     "metadata": {},
     "output_type": "execute_result"
    }
   ],
   "source": [
    "lowest_df_cleaned=pd.read_csv('data/lowest_df_cleaned.csv')\n",
    "lowest_df['Entity'].unique()"
   ]
  },
  {
   "cell_type": "code",
   "execution_count": 50,
   "metadata": {},
   "outputs": [
    {
     "data": {
      "application/vnd.plotly.v1+json": {
       "config": {
        "plotlyServerURL": "https://plot.ly"
       },
       "data": [
        {
         "marker": {
          "color": "blue"
         },
         "mode": "lines+markers",
         "name": "Burkina Faso (Actual)",
         "type": "scatter",
         "x": [
          2000,
          2001,
          2002,
          2003,
          2004,
          2005,
          2006,
          2007,
          2008,
          2009,
          2010,
          2011,
          2012,
          2013,
          2014,
          2015,
          2016,
          2017,
          2018,
          2019,
          2020
         ],
         "y": [
          31.25,
          15.625,
          16.666666,
          22.222223,
          21.276596,
          20.408163,
          15.384616,
          18.965517,
          22.413794,
          19.696968,
          20.3125,
          13.043478,
          12.643678,
          12.121212,
          8.928572,
          6.993007,
          10.322581,
          9.756098,
          13.939394,
          12.209302,
          12.804878
         ]
        },
        {
         "line": {
          "color": "blue",
          "dash": "dash"
         },
         "mode": "lines",
         "name": "Burkina Faso (Predicted)",
         "type": "scatter",
         "x": [
          2000,
          2001,
          2002,
          2003,
          2004,
          2005,
          2006,
          2007,
          2008,
          2009,
          2010,
          2011,
          2012,
          2013,
          2014,
          2015,
          2016,
          2017,
          2018,
          2019,
          2020,
          2021,
          2022,
          2023,
          2024,
          2025,
          2026,
          2027,
          2028,
          2029,
          2030
         ],
         "y": [
          31.25,
          15.625,
          16.666666,
          22.222223,
          21.276596,
          20.408163,
          15.384616,
          18.965517,
          22.413794,
          19.696968,
          20.3125,
          13.043478,
          12.643678,
          12.121212,
          8.928572,
          6.993007,
          10.322581,
          9.756098,
          13.939394,
          12.209302,
          12.804878,
          10.338193335337564,
          10.156929234508425,
          10.019713793008123,
          9.926547010822105,
          9.877428887979477,
          9.872359424451133,
          9.911338620251627,
          9.994366475380957,
          10.121442989839124,
          10.292568163611577
         ]
        },
        {
         "marker": {
          "color": "green"
         },
         "mode": "lines+markers",
         "name": "Burundi (Actual)",
         "type": "scatter",
         "x": [
          2000,
          2001,
          2002,
          2003,
          2004,
          2005,
          2006,
          2007,
          2008,
          2009,
          2010,
          2011,
          2012,
          2013,
          2014,
          2015,
          2016,
          2017,
          2018,
          2019,
          2020
         ],
         "y": [
          100,
          100,
          100,
          100,
          99.99999,
          99.99999,
          99.99999,
          100,
          100,
          100,
          100,
          92.85714,
          93.33333,
          83.333336,
          78.94737,
          83.333336,
          84.210526,
          72.413795,
          62.96296,
          66.666664,
          68.57143
         ]
        },
        {
         "line": {
          "color": "green",
          "dash": "dash"
         },
         "mode": "lines",
         "name": "Burundi (Predicted)",
         "type": "scatter",
         "x": [
          2000,
          2001,
          2002,
          2003,
          2004,
          2005,
          2006,
          2007,
          2008,
          2009,
          2010,
          2011,
          2012,
          2013,
          2014,
          2015,
          2016,
          2017,
          2018,
          2019,
          2020,
          2021,
          2022,
          2023,
          2024,
          2025,
          2026,
          2027,
          2028,
          2029,
          2030
         ],
         "y": [
          100,
          100,
          100,
          100,
          99.99999,
          99.99999,
          99.99999,
          100,
          100,
          100,
          100,
          92.85714,
          93.33333,
          83.333336,
          78.94737,
          83.333336,
          84.210526,
          72.413795,
          62.96296,
          66.666664,
          68.57143,
          57.11169624631293,
          51.91694566444494,
          46.43269584549125,
          40.65894678980112,
          34.59569849690888,
          28.242950967047364,
          21.600704200565815,
          14.668958196882159,
          7.447712956229225,
          -0.06303152104374021
         ]
        },
        {
         "marker": {
          "color": "orange"
         },
         "mode": "lines+markers",
         "name": "Central African Republic (Actual)",
         "type": "scatter",
         "x": [
          2000,
          2001,
          2002,
          2003,
          2004,
          2005,
          2006,
          2007,
          2008,
          2009,
          2010,
          2011,
          2012,
          2013,
          2014,
          2015,
          2016,
          2017,
          2018,
          2019,
          2020
         ],
         "y": [
          80,
          80,
          80,
          80,
          80,
          81.25,
          82.35294,
          87.5,
          87.5,
          87.5,
          81.25,
          83.333336,
          83.333336,
          100,
          100,
          100,
          100,
          100,
          100,
          100,
          100
         ]
        },
        {
         "line": {
          "color": "orange",
          "dash": "dash"
         },
         "mode": "lines",
         "name": "Central African Republic (Predicted)",
         "type": "scatter",
         "x": [
          2000,
          2001,
          2002,
          2003,
          2004,
          2005,
          2006,
          2007,
          2008,
          2009,
          2010,
          2011,
          2012,
          2013,
          2014,
          2015,
          2016,
          2017,
          2018,
          2019,
          2020,
          2021,
          2022,
          2023,
          2024,
          2025,
          2026,
          2027,
          2028,
          2029,
          2030
         ],
         "y": [
          80,
          80,
          80,
          80,
          80,
          81.25,
          82.35294,
          87.5,
          87.5,
          87.5,
          81.25,
          83.333336,
          83.333336,
          100,
          100,
          100,
          100,
          100,
          100,
          100,
          100,
          105.91570817466709,
          107.89418363003642,
          109.9329739191453,
          112.03207904197916,
          114.19149899853801,
          116.4112337888364,
          118.69128341284522,
          121.03164787057904,
          123.43232716202328,
          125.89332128720707
         ]
        },
        {
         "marker": {
          "color": "purple"
         },
         "mode": "lines+markers",
         "name": "Chad (Actual)",
         "type": "scatter",
         "x": [
          2000,
          2001,
          2002,
          2003,
          2004,
          2005,
          2006,
          2007,
          2008,
          2009,
          2010,
          2011,
          2012,
          2013,
          2014,
          2015,
          2016,
          2017,
          2018,
          2019,
          2020
         ],
         "y": [
          11.111111,
          10,
          10,
          9.090909,
          8.333334,
          8.333334,
          7.692308,
          0,
          0,
          5.5555553,
          5.263158,
          5.263158,
          0,
          0,
          0,
          0,
          3.448276,
          3.3333333,
          3.3333333,
          3.2258065,
          3.448276
         ]
        },
        {
         "line": {
          "color": "purple",
          "dash": "dash"
         },
         "mode": "lines",
         "name": "Chad (Predicted)",
         "type": "scatter",
         "x": [
          2000,
          2001,
          2002,
          2003,
          2004,
          2005,
          2006,
          2007,
          2008,
          2009,
          2010,
          2011,
          2012,
          2013,
          2014,
          2015,
          2016,
          2017,
          2018,
          2019,
          2020,
          2021,
          2022,
          2023,
          2024,
          2025,
          2026,
          2027,
          2028,
          2029,
          2030
         ],
         "y": [
          11.111111,
          10,
          10,
          9.090909,
          8.333334,
          8.333334,
          7.692308,
          0,
          0,
          5.5555553,
          5.263158,
          5.263158,
          0,
          0,
          0,
          0,
          3.448276,
          3.3333333,
          3.3333333,
          3.2258065,
          3.448276,
          4.326772839674959,
          5.107091770856641,
          5.992901010176865,
          6.984200557810254,
          8.080990413582185,
          9.283270577667281,
          10.591041049890919,
          12.004301830398617,
          13.523052919073962,
          15.147294316033367
         ]
        },
        {
         "marker": {
          "color": "brown"
         },
         "mode": "lines+markers",
         "name": "Congo (Actual)",
         "type": "scatter",
         "x": [
          2000,
          2001,
          2002,
          2003,
          2004,
          2005,
          2006,
          2007,
          2008,
          2009,
          2010,
          2011,
          2012,
          2013,
          2014,
          2015,
          2016,
          2017,
          2018,
          2019,
          2020
         ],
         "y": [
          100,
          99.99999,
          100,
          90,
          89.74359,
          88.09524,
          88.63637,
          85,
          81.25,
          69.230774,
          57.894737,
          63.70968,
          60.97561,
          59.39394,
          57.14286,
          42.69663,
          41.342754,
          43.508774,
          38.72054,
          25.68306,
          25.065275
         ]
        },
        {
         "line": {
          "color": "brown",
          "dash": "dash"
         },
         "mode": "lines",
         "name": "Congo (Predicted)",
         "type": "scatter",
         "x": [
          2000,
          2001,
          2002,
          2003,
          2004,
          2005,
          2006,
          2007,
          2008,
          2009,
          2010,
          2011,
          2012,
          2013,
          2014,
          2015,
          2016,
          2017,
          2018,
          2019,
          2020,
          2021,
          2022,
          2023,
          2024,
          2025,
          2026,
          2027,
          2028,
          2029,
          2030
         ],
         "y": [
          100,
          99.99999,
          100,
          90,
          89.74359,
          88.09524,
          88.63637,
          85,
          81.25,
          69.230774,
          57.894737,
          63.70968,
          60.97561,
          59.39394,
          57.14286,
          42.69663,
          41.342754,
          43.508774,
          38.72054,
          25.68306,
          25.065275,
          19.68043258745456,
          14.553498415305512,
          9.319550660875393,
          3.9785893243097235,
          -1.4693855944788083,
          -7.02437409554841,
          -12.686376178782666,
          -18.455391844297992,
          -24.33142109194887,
          -30.31446392190992
         ]
        },
        {
         "marker": {
          "color": "brown"
         },
         "mode": "lines+markers",
         "name": "Niger (Actual)",
         "type": "scatter",
         "x": [
          2000,
          2001,
          2002,
          2003,
          2004,
          2005,
          2006,
          2007,
          2008,
          2009,
          2010,
          2011,
          2012,
          2013,
          2014,
          2015,
          2016,
          2017,
          2018,
          2019,
          2020
         ],
         "y": [
          0,
          0,
          0,
          0,
          0,
          0,
          0,
          0,
          0,
          0,
          0,
          0,
          2.5641026,
          2.3809524,
          2.3809524,
          1.9607843,
          2,
          1.8867925,
          9.259259,
          8.196721,
          11.627907
         ]
        },
        {
         "line": {
          "color": "brown",
          "dash": "dash"
         },
         "mode": "lines",
         "name": "Niger (Predicted)",
         "type": "scatter",
         "x": [
          2000,
          2001,
          2002,
          2003,
          2004,
          2005,
          2006,
          2007,
          2008,
          2009,
          2010,
          2011,
          2012,
          2013,
          2014,
          2015,
          2016,
          2017,
          2018,
          2019,
          2020,
          2021,
          2022,
          2023,
          2024,
          2025,
          2026,
          2027,
          2028,
          2029,
          2030
         ],
         "y": [
          0,
          0,
          0,
          0,
          0,
          0,
          0,
          0,
          0,
          0,
          0,
          0,
          2.5641026,
          2.3809524,
          2.3809524,
          1.9607843,
          2,
          1.8867925,
          9.259259,
          8.196721,
          11.627907,
          10.932048579765251,
          12.531133704178501,
          14.233026911417255,
          16.037728201568825,
          17.945237574604107,
          19.95555503043579,
          22.06868056920939,
          24.284614190779394,
          26.603355895291315,
          29.024905682657845
         ]
        },
        {
         "marker": {
          "color": "yellow"
         },
         "mode": "lines+markers",
         "name": "Sierra Leone (Actual)",
         "type": "scatter",
         "x": [
          2000,
          2001,
          2002,
          2003,
          2004,
          2005,
          2006,
          2007,
          2008,
          2009,
          2010,
          2011,
          2012,
          2013,
          2014,
          2015,
          2016,
          2017,
          2018,
          2019,
          2020
         ],
         "y": [
          12.5,
          7.692308,
          13.333333,
          14.285714,
          16.666668,
          25,
          0,
          33.333336,
          33.333336,
          33.333336,
          75,
          88.2353,
          66.666664,
          66.666664,
          78.94737,
          73.68421,
          72.72727,
          73.91304,
          76.92308,
          90.4762,
          90.4762
         ]
        },
        {
         "line": {
          "color": "yellow",
          "dash": "dash"
         },
         "mode": "lines",
         "name": "Sierra Leone (Predicted)",
         "type": "scatter",
         "x": [
          2000,
          2001,
          2002,
          2003,
          2004,
          2005,
          2006,
          2007,
          2008,
          2009,
          2010,
          2011,
          2012,
          2013,
          2014,
          2015,
          2016,
          2017,
          2018,
          2019,
          2020,
          2021,
          2022,
          2023,
          2024,
          2025,
          2026,
          2027,
          2028,
          2029,
          2030
         ],
         "y": [
          12.5,
          7.692308,
          13.333333,
          14.285714,
          16.666668,
          25,
          0,
          33.333336,
          33.333336,
          33.333336,
          75,
          88.2353,
          66.666664,
          66.666664,
          78.94737,
          73.68421,
          72.72727,
          73.91304,
          76.92308,
          90.4762,
          90.4762,
          94.88510422990657,
          97.94717375503387,
          100.87256620527478,
          103.66128158074571,
          106.31331988138845,
          108.8286811070866,
          111.20736525807297,
          113.44937233405653,
          115.55470233538654,
          117.52335526177194
         ]
        }
       ],
       "layout": {
        "legend": {
         "title": {
          "text": "Country"
         }
        },
        "showlegend": true,
        "template": {
         "data": {
          "bar": [
           {
            "error_x": {
             "color": "#2a3f5f"
            },
            "error_y": {
             "color": "#2a3f5f"
            },
            "marker": {
             "line": {
              "color": "#E5ECF6",
              "width": 0.5
             },
             "pattern": {
              "fillmode": "overlay",
              "size": 10,
              "solidity": 0.2
             }
            },
            "type": "bar"
           }
          ],
          "barpolar": [
           {
            "marker": {
             "line": {
              "color": "#E5ECF6",
              "width": 0.5
             },
             "pattern": {
              "fillmode": "overlay",
              "size": 10,
              "solidity": 0.2
             }
            },
            "type": "barpolar"
           }
          ],
          "carpet": [
           {
            "aaxis": {
             "endlinecolor": "#2a3f5f",
             "gridcolor": "white",
             "linecolor": "white",
             "minorgridcolor": "white",
             "startlinecolor": "#2a3f5f"
            },
            "baxis": {
             "endlinecolor": "#2a3f5f",
             "gridcolor": "white",
             "linecolor": "white",
             "minorgridcolor": "white",
             "startlinecolor": "#2a3f5f"
            },
            "type": "carpet"
           }
          ],
          "choropleth": [
           {
            "colorbar": {
             "outlinewidth": 0,
             "ticks": ""
            },
            "type": "choropleth"
           }
          ],
          "contour": [
           {
            "colorbar": {
             "outlinewidth": 0,
             "ticks": ""
            },
            "colorscale": [
             [
              0,
              "#0d0887"
             ],
             [
              0.1111111111111111,
              "#46039f"
             ],
             [
              0.2222222222222222,
              "#7201a8"
             ],
             [
              0.3333333333333333,
              "#9c179e"
             ],
             [
              0.4444444444444444,
              "#bd3786"
             ],
             [
              0.5555555555555556,
              "#d8576b"
             ],
             [
              0.6666666666666666,
              "#ed7953"
             ],
             [
              0.7777777777777778,
              "#fb9f3a"
             ],
             [
              0.8888888888888888,
              "#fdca26"
             ],
             [
              1,
              "#f0f921"
             ]
            ],
            "type": "contour"
           }
          ],
          "contourcarpet": [
           {
            "colorbar": {
             "outlinewidth": 0,
             "ticks": ""
            },
            "type": "contourcarpet"
           }
          ],
          "heatmap": [
           {
            "colorbar": {
             "outlinewidth": 0,
             "ticks": ""
            },
            "colorscale": [
             [
              0,
              "#0d0887"
             ],
             [
              0.1111111111111111,
              "#46039f"
             ],
             [
              0.2222222222222222,
              "#7201a8"
             ],
             [
              0.3333333333333333,
              "#9c179e"
             ],
             [
              0.4444444444444444,
              "#bd3786"
             ],
             [
              0.5555555555555556,
              "#d8576b"
             ],
             [
              0.6666666666666666,
              "#ed7953"
             ],
             [
              0.7777777777777778,
              "#fb9f3a"
             ],
             [
              0.8888888888888888,
              "#fdca26"
             ],
             [
              1,
              "#f0f921"
             ]
            ],
            "type": "heatmap"
           }
          ],
          "heatmapgl": [
           {
            "colorbar": {
             "outlinewidth": 0,
             "ticks": ""
            },
            "colorscale": [
             [
              0,
              "#0d0887"
             ],
             [
              0.1111111111111111,
              "#46039f"
             ],
             [
              0.2222222222222222,
              "#7201a8"
             ],
             [
              0.3333333333333333,
              "#9c179e"
             ],
             [
              0.4444444444444444,
              "#bd3786"
             ],
             [
              0.5555555555555556,
              "#d8576b"
             ],
             [
              0.6666666666666666,
              "#ed7953"
             ],
             [
              0.7777777777777778,
              "#fb9f3a"
             ],
             [
              0.8888888888888888,
              "#fdca26"
             ],
             [
              1,
              "#f0f921"
             ]
            ],
            "type": "heatmapgl"
           }
          ],
          "histogram": [
           {
            "marker": {
             "pattern": {
              "fillmode": "overlay",
              "size": 10,
              "solidity": 0.2
             }
            },
            "type": "histogram"
           }
          ],
          "histogram2d": [
           {
            "colorbar": {
             "outlinewidth": 0,
             "ticks": ""
            },
            "colorscale": [
             [
              0,
              "#0d0887"
             ],
             [
              0.1111111111111111,
              "#46039f"
             ],
             [
              0.2222222222222222,
              "#7201a8"
             ],
             [
              0.3333333333333333,
              "#9c179e"
             ],
             [
              0.4444444444444444,
              "#bd3786"
             ],
             [
              0.5555555555555556,
              "#d8576b"
             ],
             [
              0.6666666666666666,
              "#ed7953"
             ],
             [
              0.7777777777777778,
              "#fb9f3a"
             ],
             [
              0.8888888888888888,
              "#fdca26"
             ],
             [
              1,
              "#f0f921"
             ]
            ],
            "type": "histogram2d"
           }
          ],
          "histogram2dcontour": [
           {
            "colorbar": {
             "outlinewidth": 0,
             "ticks": ""
            },
            "colorscale": [
             [
              0,
              "#0d0887"
             ],
             [
              0.1111111111111111,
              "#46039f"
             ],
             [
              0.2222222222222222,
              "#7201a8"
             ],
             [
              0.3333333333333333,
              "#9c179e"
             ],
             [
              0.4444444444444444,
              "#bd3786"
             ],
             [
              0.5555555555555556,
              "#d8576b"
             ],
             [
              0.6666666666666666,
              "#ed7953"
             ],
             [
              0.7777777777777778,
              "#fb9f3a"
             ],
             [
              0.8888888888888888,
              "#fdca26"
             ],
             [
              1,
              "#f0f921"
             ]
            ],
            "type": "histogram2dcontour"
           }
          ],
          "mesh3d": [
           {
            "colorbar": {
             "outlinewidth": 0,
             "ticks": ""
            },
            "type": "mesh3d"
           }
          ],
          "parcoords": [
           {
            "line": {
             "colorbar": {
              "outlinewidth": 0,
              "ticks": ""
             }
            },
            "type": "parcoords"
           }
          ],
          "pie": [
           {
            "automargin": true,
            "type": "pie"
           }
          ],
          "scatter": [
           {
            "fillpattern": {
             "fillmode": "overlay",
             "size": 10,
             "solidity": 0.2
            },
            "type": "scatter"
           }
          ],
          "scatter3d": [
           {
            "line": {
             "colorbar": {
              "outlinewidth": 0,
              "ticks": ""
             }
            },
            "marker": {
             "colorbar": {
              "outlinewidth": 0,
              "ticks": ""
             }
            },
            "type": "scatter3d"
           }
          ],
          "scattercarpet": [
           {
            "marker": {
             "colorbar": {
              "outlinewidth": 0,
              "ticks": ""
             }
            },
            "type": "scattercarpet"
           }
          ],
          "scattergeo": [
           {
            "marker": {
             "colorbar": {
              "outlinewidth": 0,
              "ticks": ""
             }
            },
            "type": "scattergeo"
           }
          ],
          "scattergl": [
           {
            "marker": {
             "colorbar": {
              "outlinewidth": 0,
              "ticks": ""
             }
            },
            "type": "scattergl"
           }
          ],
          "scattermapbox": [
           {
            "marker": {
             "colorbar": {
              "outlinewidth": 0,
              "ticks": ""
             }
            },
            "type": "scattermapbox"
           }
          ],
          "scatterpolar": [
           {
            "marker": {
             "colorbar": {
              "outlinewidth": 0,
              "ticks": ""
             }
            },
            "type": "scatterpolar"
           }
          ],
          "scatterpolargl": [
           {
            "marker": {
             "colorbar": {
              "outlinewidth": 0,
              "ticks": ""
             }
            },
            "type": "scatterpolargl"
           }
          ],
          "scatterternary": [
           {
            "marker": {
             "colorbar": {
              "outlinewidth": 0,
              "ticks": ""
             }
            },
            "type": "scatterternary"
           }
          ],
          "surface": [
           {
            "colorbar": {
             "outlinewidth": 0,
             "ticks": ""
            },
            "colorscale": [
             [
              0,
              "#0d0887"
             ],
             [
              0.1111111111111111,
              "#46039f"
             ],
             [
              0.2222222222222222,
              "#7201a8"
             ],
             [
              0.3333333333333333,
              "#9c179e"
             ],
             [
              0.4444444444444444,
              "#bd3786"
             ],
             [
              0.5555555555555556,
              "#d8576b"
             ],
             [
              0.6666666666666666,
              "#ed7953"
             ],
             [
              0.7777777777777778,
              "#fb9f3a"
             ],
             [
              0.8888888888888888,
              "#fdca26"
             ],
             [
              1,
              "#f0f921"
             ]
            ],
            "type": "surface"
           }
          ],
          "table": [
           {
            "cells": {
             "fill": {
              "color": "#EBF0F8"
             },
             "line": {
              "color": "white"
             }
            },
            "header": {
             "fill": {
              "color": "#C8D4E3"
             },
             "line": {
              "color": "white"
             }
            },
            "type": "table"
           }
          ]
         },
         "layout": {
          "annotationdefaults": {
           "arrowcolor": "#2a3f5f",
           "arrowhead": 0,
           "arrowwidth": 1
          },
          "autotypenumbers": "strict",
          "coloraxis": {
           "colorbar": {
            "outlinewidth": 0,
            "ticks": ""
           }
          },
          "colorscale": {
           "diverging": [
            [
             0,
             "#8e0152"
            ],
            [
             0.1,
             "#c51b7d"
            ],
            [
             0.2,
             "#de77ae"
            ],
            [
             0.3,
             "#f1b6da"
            ],
            [
             0.4,
             "#fde0ef"
            ],
            [
             0.5,
             "#f7f7f7"
            ],
            [
             0.6,
             "#e6f5d0"
            ],
            [
             0.7,
             "#b8e186"
            ],
            [
             0.8,
             "#7fbc41"
            ],
            [
             0.9,
             "#4d9221"
            ],
            [
             1,
             "#276419"
            ]
           ],
           "sequential": [
            [
             0,
             "#0d0887"
            ],
            [
             0.1111111111111111,
             "#46039f"
            ],
            [
             0.2222222222222222,
             "#7201a8"
            ],
            [
             0.3333333333333333,
             "#9c179e"
            ],
            [
             0.4444444444444444,
             "#bd3786"
            ],
            [
             0.5555555555555556,
             "#d8576b"
            ],
            [
             0.6666666666666666,
             "#ed7953"
            ],
            [
             0.7777777777777778,
             "#fb9f3a"
            ],
            [
             0.8888888888888888,
             "#fdca26"
            ],
            [
             1,
             "#f0f921"
            ]
           ],
           "sequentialminus": [
            [
             0,
             "#0d0887"
            ],
            [
             0.1111111111111111,
             "#46039f"
            ],
            [
             0.2222222222222222,
             "#7201a8"
            ],
            [
             0.3333333333333333,
             "#9c179e"
            ],
            [
             0.4444444444444444,
             "#bd3786"
            ],
            [
             0.5555555555555556,
             "#d8576b"
            ],
            [
             0.6666666666666666,
             "#ed7953"
            ],
            [
             0.7777777777777778,
             "#fb9f3a"
            ],
            [
             0.8888888888888888,
             "#fdca26"
            ],
            [
             1,
             "#f0f921"
            ]
           ]
          },
          "colorway": [
           "#636efa",
           "#EF553B",
           "#00cc96",
           "#ab63fa",
           "#FFA15A",
           "#19d3f3",
           "#FF6692",
           "#B6E880",
           "#FF97FF",
           "#FECB52"
          ],
          "font": {
           "color": "#2a3f5f"
          },
          "geo": {
           "bgcolor": "white",
           "lakecolor": "white",
           "landcolor": "#E5ECF6",
           "showlakes": true,
           "showland": true,
           "subunitcolor": "white"
          },
          "hoverlabel": {
           "align": "left"
          },
          "hovermode": "closest",
          "mapbox": {
           "style": "light"
          },
          "paper_bgcolor": "white",
          "plot_bgcolor": "#E5ECF6",
          "polar": {
           "angularaxis": {
            "gridcolor": "white",
            "linecolor": "white",
            "ticks": ""
           },
           "bgcolor": "#E5ECF6",
           "radialaxis": {
            "gridcolor": "white",
            "linecolor": "white",
            "ticks": ""
           }
          },
          "scene": {
           "xaxis": {
            "backgroundcolor": "#E5ECF6",
            "gridcolor": "white",
            "gridwidth": 2,
            "linecolor": "white",
            "showbackground": true,
            "ticks": "",
            "zerolinecolor": "white"
           },
           "yaxis": {
            "backgroundcolor": "#E5ECF6",
            "gridcolor": "white",
            "gridwidth": 2,
            "linecolor": "white",
            "showbackground": true,
            "ticks": "",
            "zerolinecolor": "white"
           },
           "zaxis": {
            "backgroundcolor": "#E5ECF6",
            "gridcolor": "white",
            "gridwidth": 2,
            "linecolor": "white",
            "showbackground": true,
            "ticks": "",
            "zerolinecolor": "white"
           }
          },
          "shapedefaults": {
           "line": {
            "color": "#2a3f5f"
           }
          },
          "ternary": {
           "aaxis": {
            "gridcolor": "white",
            "linecolor": "white",
            "ticks": ""
           },
           "baxis": {
            "gridcolor": "white",
            "linecolor": "white",
            "ticks": ""
           },
           "bgcolor": "#E5ECF6",
           "caxis": {
            "gridcolor": "white",
            "linecolor": "white",
            "ticks": ""
           }
          },
          "title": {
           "x": 0.05
          },
          "xaxis": {
           "automargin": true,
           "gridcolor": "white",
           "linecolor": "white",
           "ticks": "",
           "title": {
            "standoff": 15
           },
           "zerolinecolor": "white",
           "zerolinewidth": 2
          },
          "yaxis": {
           "automargin": true,
           "gridcolor": "white",
           "linecolor": "white",
           "ticks": "",
           "title": {
            "standoff": 15
           },
           "zerolinecolor": "white",
           "zerolinewidth": 2
          }
         }
        },
        "title": {
         "text": "Low-carbon electricity (% electricity)"
        },
        "xaxis": {
         "title": {
          "text": "Year"
         }
        },
        "yaxis": {
         "title": {
          "text": "Low-carbon Electricity Share (%)"
         }
        }
       }
      }
     },
     "metadata": {},
     "output_type": "display_data"
    }
   ],
   "source": [
    "from sklearn.preprocessing import PolynomialFeatures\n",
    "from sklearn.pipeline import make_pipeline\n",
    "import pandas as pd\n",
    "import numpy as np\n",
    "import plotly.graph_objs as go\n",
    "\n",
    "# Load the data\n",
    "df = pd.read_csv('data/lowest_df_cleaned.csv')\n",
    "\n",
    "# List of the five countries we are interested in\n",
    "countries = ['Burkina Faso', 'Burundi', 'Central African Republic', 'Chad', 'Congo', 'Niger', 'Sierra Leone']\n",
    "\n",
    "# Filter the dataframe for the five countries and select the relevant columns\n",
    "df_five_countries = df[(df['Entity'].isin(countries)) & (df['Year'] >= 2000)]\n",
    "\n",
    "# Initialize a Plotly figure\n",
    "fig = go.Figure()\n",
    "\n",
    "# Define colors for each country\n",
    "colors = {'Burkina Faso': 'blue', 'Burundi': 'green', 'Central African Republic': 'orange', 'Chad': 'purple', 'Congo': 'brown','Niger': 'brown', 'Sierra Leone':'yellow' }\n",
    "\n",
    "# Degree of the polynomial (try different values for better fit)\n",
    "degree = 2\n",
    "\n",
    "# Iterate through each country and plot their low-carbon electricity share and predictions\n",
    "for country in countries:\n",
    "    country_data = df_five_countries[df_five_countries['Entity'] == country]\n",
    "    X = country_data['Year'].values.reshape(-1, 1)\n",
    "    y = country_data[r'Low-carbon electricity (% electricity)'].values  # Adjust column name as needed\n",
    "    \n",
    "    # Train the polynomial regression model\n",
    "    polynomial_model = make_pipeline(PolynomialFeatures(degree), LinearRegression())\n",
    "    polynomial_model.fit(X, y)\n",
    "    \n",
    "    # Predict for the years starting from the last known year\n",
    "    future_years = np.arange(X.min(), 2031).reshape(-1, 1)  # Start from the first year to the year 2030\n",
    "    y_pred = polynomial_model.predict(future_years)\n",
    "    \n",
    "    # Combine actual and predicted values for the known range\n",
    "    predicted_full_series = np.concatenate([y, y_pred[len(X):]])  # Take historical y and append predicted for future\n",
    "    \n",
    "    # Plot the historical data\n",
    "    fig.add_trace(go.Scatter(x=country_data['Year'], y=y, mode='lines+markers', name=f'{country} (Actual)', marker=dict(color=colors[country])))\n",
    "    \n",
    "    # Plot the predicted data starting from the last known year\n",
    "    fig.add_trace(go.Scatter(x=future_years.flatten(), y=predicted_full_series, mode='lines', name=f'{country} (Predicted)', line=dict(color=colors[country], dash='dash')))\n",
    "\n",
    "# Update the layout of the plot\n",
    "fig.update_layout(\n",
    "    title='Low-carbon electricity (% electricity)',\n",
    "    xaxis_title='Year',\n",
    "    yaxis_title='Low-carbon Electricity Share (%)',\n",
    "    legend_title='Country',\n",
    "    showlegend=True\n",
    ")\n",
    "\n",
    "# Show the plot\n",
    "fig.show()\n"
   ]
  },
  {
   "cell_type": "code",
   "execution_count": 51,
   "metadata": {},
   "outputs": [
    {
     "name": "stdout",
     "output_type": "stream",
     "text": [
      "Country: Burkina Faso\n",
      "  RMSE (up to latest known year): 3.7335220710709955\n",
      "  R-squared (up to latest known year): 0.5617214655079841\n",
      "------------------------------\n",
      "Country: Burundi\n",
      "  RMSE (up to latest known year): 3.5016249053325805\n",
      "  R-squared (up to latest known year): 0.9244281039853463\n",
      "------------------------------\n",
      "Country: Central African Republic\n",
      "  RMSE (up to latest known year): 3.8761962123280105\n",
      "  R-squared (up to latest known year): 0.803667089175959\n",
      "------------------------------\n",
      "Country: Chad\n",
      "  RMSE (up to latest known year): 2.0486416792623627\n",
      "  R-squared (up to latest known year): 0.701023161495422\n",
      "------------------------------\n",
      "Country: Congo\n",
      "  RMSE (up to latest known year): 4.117204024192168\n",
      "  R-squared (up to latest known year): 0.9706034923116006\n",
      "------------------------------\n",
      "Country: Niger\n",
      "  RMSE (up to latest known year): 1.3693205772372645\n",
      "  R-squared (up to latest known year): 0.8305778509366882\n",
      "------------------------------\n",
      "Country: Sierra Leone\n",
      "  RMSE (up to latest known year): 12.679093611660507\n",
      "  R-squared (up to latest known year): 0.8313259947716276\n",
      "------------------------------\n"
     ]
    }
   ],
   "source": [
    "from sklearn.preprocessing import PolynomialFeatures\n",
    "from sklearn.pipeline import make_pipeline\n",
    "from sklearn.metrics import mean_squared_error, r2_score\n",
    "import pandas as pd\n",
    "import numpy as np\n",
    "\n",
    "df = pd.read_csv('data/lowest_df_cleaned.csv')\n",
    "\n",
    "df_five_countries = df[(df['Entity'].isin(countries)) & (df['Year'] >= 2000)]\n",
    "\n",
    "degree = 2\n",
    "\n",
    "for country in countries:\n",
    "    country_data = df_five_countries[df_five_countries['Entity'] == country]\n",
    "    X = country_data['Year'].values.reshape(-1, 1)\n",
    "    y = country_data[r'Low-carbon electricity (% electricity)'].values  \n",
    "\n",
    "    polynomial_model = make_pipeline(PolynomialFeatures(degree), LinearRegression())\n",
    "    polynomial_model.fit(X, y)\n",
    "\n",
    "    future_years = np.arange(X.min(), 2031).reshape(-1, 1)\n",
    "    y_pred_full = polynomial_model.predict(future_years)\n",
    "    \n",
    "    y_pred_train = polynomial_model.predict(X)\n",
    "    rmse = np.sqrt(mean_squared_error(y, y_pred_train))\n",
    "    r2 = r2_score(y, y_pred_train)\n",
    "    \n",
    "    print(f\"Country: {country}\")\n",
    "    print(f\"  RMSE (up to latest known year): {rmse}\")\n",
    "    print(f\"  R-squared (up to latest known year): {r2}\")\n",
    "    print(\"-\" * 30)\n"
   ]
  },
  {
   "cell_type": "code",
   "execution_count": 52,
   "metadata": {},
   "outputs": [],
   "source": [
    "df=pd.read_csv('share-electricity-renewables.csv')\n",
    "\n"
   ]
  },
  {
   "cell_type": "code",
   "execution_count": 53,
   "metadata": {},
   "outputs": [
    {
     "name": "stdout",
     "output_type": "stream",
     "text": [
      "China Model Performance:\n",
      "R-squared: 0.85\n",
      "Mean Squared Error: 3.85\n",
      "--------------------------\n",
      "Germany Model Performance:\n",
      "R-squared: 0.96\n",
      "Mean Squared Error: 6.85\n",
      "--------------------------\n",
      "India Model Performance:\n",
      "R-squared: 0.60\n",
      "Mean Squared Error: 2.08\n",
      "--------------------------\n",
      "Japan Model Performance:\n",
      "R-squared: 0.80\n",
      "Mean Squared Error: 4.37\n",
      "--------------------------\n",
      "United States Model Performance:\n",
      "R-squared: 0.90\n",
      "Mean Squared Error: 2.25\n",
      "--------------------------\n"
     ]
    },
    {
     "name": "stderr",
     "output_type": "stream",
     "text": [
      "c:\\Users\\ShasenemBekjanNomela\\AppData\\Local\\Programs\\Python\\Python312\\Lib\\site-packages\\sklearn\\base.py:493: UserWarning:\n",
      "\n",
      "X does not have valid feature names, but LinearRegression was fitted with feature names\n",
      "\n",
      "c:\\Users\\ShasenemBekjanNomela\\AppData\\Local\\Programs\\Python\\Python312\\Lib\\site-packages\\sklearn\\base.py:493: UserWarning:\n",
      "\n",
      "X does not have valid feature names, but LinearRegression was fitted with feature names\n",
      "\n",
      "c:\\Users\\ShasenemBekjanNomela\\AppData\\Local\\Programs\\Python\\Python312\\Lib\\site-packages\\sklearn\\base.py:493: UserWarning:\n",
      "\n",
      "X does not have valid feature names, but LinearRegression was fitted with feature names\n",
      "\n",
      "c:\\Users\\ShasenemBekjanNomela\\AppData\\Local\\Programs\\Python\\Python312\\Lib\\site-packages\\sklearn\\base.py:493: UserWarning:\n",
      "\n",
      "X does not have valid feature names, but LinearRegression was fitted with feature names\n",
      "\n",
      "c:\\Users\\ShasenemBekjanNomela\\AppData\\Local\\Programs\\Python\\Python312\\Lib\\site-packages\\sklearn\\base.py:493: UserWarning:\n",
      "\n",
      "X does not have valid feature names, but LinearRegression was fitted with feature names\n",
      "\n"
     ]
    },
    {
     "data": {
      "application/vnd.plotly.v1+json": {
       "config": {
        "plotlyServerURL": "https://plot.ly"
       },
       "data": [
        {
         "marker": {
          "color": "blue"
         },
         "mode": "markers",
         "name": "China Actual Data (Scatter)",
         "type": "scatter",
         "x": [
          2000,
          2001,
          2002,
          2003,
          2004,
          2005,
          2006,
          2007,
          2008,
          2009,
          2010,
          2011,
          2012,
          2013,
          2014,
          2015,
          2016,
          2017,
          2018,
          2019,
          2020,
          2021,
          2022,
          2023
         ],
         "y": [
          16.639128,
          18.958124,
          17.618395,
          15.036272,
          16.22241,
          16.173119,
          15.588404,
          15.258385,
          19.025333,
          17.885717,
          18.691467,
          16.812574,
          20.041142,
          20.129684,
          22.249393,
          23.968369,
          24.828798,
          25.241505,
          25.610998,
          26.848654,
          28.08742,
          28.69294,
          30.175854,
          30.6804
         ]
        },
        {
         "line": {
          "color": "blue"
         },
         "mode": "lines",
         "name": "China Regression Line",
         "type": "scatter",
         "x": [
          2000,
          2001,
          2002,
          2003,
          2004,
          2005,
          2006,
          2007,
          2008,
          2009,
          2010,
          2011,
          2012,
          2013,
          2014,
          2015,
          2016,
          2017,
          2018,
          2019,
          2020,
          2021,
          2022,
          2023
         ],
         "y": [
          13.623482426666897,
          14.288340784492902,
          14.953199142319136,
          15.618057500145142,
          16.282915857971147,
          16.94777421579738,
          17.612632573623387,
          18.277490931449393,
          18.942349289275626,
          19.60720764710163,
          20.272066004927638,
          20.93692436275387,
          21.601782720579877,
          22.26664107840611,
          22.931499436232116,
          23.59635779405812,
          24.261216151884355,
          24.92607450971036,
          25.590932867536367,
          26.2557912253626,
          26.920649583188606,
          27.585507941014612,
          28.250366298840845,
          28.91522465666685
         ]
        },
        {
         "line": {
          "color": "blue",
          "dash": "dash"
         },
         "mode": "lines",
         "name": "China Predicted Data",
         "type": "scatter",
         "x": [
          2020,
          2031
         ],
         "y": [
          28.250366298840845,
          34.23409151927558
         ]
        },
        {
         "marker": {
          "color": "green"
         },
         "mode": "markers",
         "name": "Germany Actual Data (Scatter)",
         "type": "scatter",
         "x": [
          2000,
          2001,
          2002,
          2003,
          2004,
          2005,
          2006,
          2007,
          2008,
          2009,
          2010,
          2011,
          2012,
          2013,
          2014,
          2015,
          2016,
          2017,
          2018,
          2019,
          2020,
          2021,
          2022,
          2023
         ],
         "y": [
          6.2237453,
          6.542992,
          7.6212826,
          7.752105,
          9.509515,
          10.341735,
          11.513805,
          14.172081,
          14.925114,
          16.341248,
          16.886944,
          20.566942,
          23.136122,
          24.130922,
          26.170504,
          29.43505,
          29.481543,
          33.466778,
          35.25811,
          40.18897,
          44.37406,
          40.218536,
          44.30719,
          52.409912
         ]
        },
        {
         "line": {
          "color": "green"
         },
         "mode": "lines",
         "name": "Germany Regression Line",
         "type": "scatter",
         "x": [
          2000,
          2001,
          2002,
          2003,
          2004,
          2005,
          2006,
          2007,
          2008,
          2009,
          2010,
          2011,
          2012,
          2013,
          2014,
          2015,
          2016,
          2017,
          2018,
          2019,
          2020,
          2021,
          2022,
          2023
         ],
         "y": [
          1.3624308356666006,
          3.2909702046667917,
          5.219509573666528,
          7.148048942666719,
          9.076588311666455,
          11.005127680666646,
          12.933667049666838,
          14.862206418666574,
          16.790745787666765,
          18.7192851566665,
          20.647824525666692,
          22.576363894666883,
          24.50490326366662,
          26.43344263266681,
          28.361982001666547,
          30.290521370666738,
          32.219060739666475,
          34.147600108666666,
          36.07613947766686,
          38.00467884666659,
          39.933218215666784,
          41.86175758466652,
          43.79029695366671,
          45.7188363226669
         ]
        },
        {
         "line": {
          "color": "green",
          "dash": "dash"
         },
         "mode": "lines",
         "name": "Germany Predicted Data",
         "type": "scatter",
         "x": [
          2020,
          2031
         ],
         "y": [
          43.79029695366671,
          61.14715127466661
         ]
        },
        {
         "marker": {
          "color": "orange"
         },
         "mode": "markers",
         "name": "India Actual Data (Scatter)",
         "type": "scatter",
         "x": [
          2000,
          2001,
          2002,
          2003,
          2004,
          2005,
          2006,
          2007,
          2008,
          2009,
          2010,
          2011,
          2012,
          2013,
          2014,
          2015,
          2016,
          2017,
          2018,
          2019,
          2020,
          2021,
          2022,
          2023
         ],
         "y": [
          14.048197,
          12.999709,
          11.938192,
          11.695108,
          15.63753,
          15.254357,
          17.135258,
          17.801973,
          16.768267,
          15.269804,
          15.21222,
          16.791103,
          15.135002,
          16.394157,
          16.00672,
          15.370245,
          14.853682,
          15.965148,
          16.692839,
          18.689354,
          19.954615,
          19.448202,
          20.499144,
          19.513695
         ]
        },
        {
         "line": {
          "color": "orange"
         },
         "mode": "lines",
         "name": "India Regression Line",
         "type": "scatter",
         "x": [
          2000,
          2001,
          2002,
          2003,
          2004,
          2005,
          2006,
          2007,
          2008,
          2009,
          2010,
          2011,
          2012,
          2013,
          2014,
          2015,
          2016,
          2017,
          2018,
          2019,
          2020,
          2021,
          2022,
          2023
         ],
         "y": [
          13.275656719999972,
          13.530942081304318,
          13.786227442608663,
          14.041512803913008,
          14.296798165217353,
          14.552083526521699,
          14.807368887826044,
          15.06265424913039,
          15.317939610434735,
          15.57322497173908,
          15.828510333043425,
          16.08379569434777,
          16.339081055652116,
          16.59436641695646,
          16.849651778260807,
          17.104937139565152,
          17.360222500869497,
          17.615507862173843,
          17.870793223478188,
          18.126078584782533,
          18.38136394608688,
          18.636649307391224,
          18.89193466869557,
          19.147220029999914
         ]
        },
        {
         "line": {
          "color": "orange",
          "dash": "dash"
         },
         "mode": "lines",
         "name": "India Predicted Data",
         "type": "scatter",
         "x": [
          2020,
          2031
         ],
         "y": [
          18.89193466869557,
          21.18950292043479
         ]
        },
        {
         "marker": {
          "color": "purple"
         },
         "mode": "markers",
         "name": "Japan Actual Data (Scatter)",
         "type": "scatter",
         "x": [
          2000,
          2001,
          2002,
          2003,
          2004,
          2005,
          2006,
          2007,
          2008,
          2009,
          2010,
          2011,
          2012,
          2013,
          2014,
          2015,
          2016,
          2017,
          2018,
          2019,
          2020,
          2021,
          2022,
          2023
         ],
         "y": [
          9.187302,
          9.077312,
          8.942316,
          10.262771,
          10.027739,
          8.914464,
          9.831237,
          8.622925,
          8.615359,
          8.732339,
          10.22802,
          10.278935,
          10.058001,
          11.082408,
          12.599744,
          14.951656,
          14.662352,
          16.001804,
          17.071156,
          17.576868,
          19.576511,
          21.181513,
          21.956364,
          23.830055
         ]
        },
        {
         "line": {
          "color": "purple"
         },
         "mode": "lines",
         "name": "Japan Regression Line",
         "type": "scatter",
         "x": [
          2000,
          2001,
          2002,
          2003,
          2004,
          2005,
          2006,
          2007,
          2008,
          2009,
          2010,
          2011,
          2012,
          2013,
          2014,
          2015,
          2016,
          2017,
          2018,
          2019,
          2020,
          2021,
          2022,
          2023
         ],
         "y": [
          6.024580896666521,
          6.635737452753574,
          7.246894008840627,
          7.858050564927453,
          8.469207121014506,
          9.080363677101332,
          9.691520233188385,
          10.30267678927521,
          10.913833345362264,
          11.524989901449317,
          12.136146457536142,
          12.747303013623196,
          13.358459569710021,
          13.969616125797074,
          14.5807726818839,
          15.191929237970953,
          15.803085794058006,
          16.414242350144832,
          17.025398906231885,
          17.63655546231871,
          18.247712018405764,
          18.85886857449259,
          19.470025130579643,
          20.081181686666696
         ]
        },
        {
         "line": {
          "color": "purple",
          "dash": "dash"
         },
         "mode": "lines",
         "name": "Japan Predicted Data",
         "type": "scatter",
         "x": [
          2020,
          2031
         ],
         "y": [
          19.470025130579643,
          24.97043413536221
         ]
        },
        {
         "marker": {
          "color": "red"
         },
         "mode": "markers",
         "name": "United States Actual Data (Scatter)",
         "type": "scatter",
         "x": [
          2000,
          2001,
          2002,
          2003,
          2004,
          2005,
          2006,
          2007,
          2008,
          2009,
          2010,
          2011,
          2012,
          2013,
          2014,
          2015,
          2016,
          2017,
          2018,
          2019,
          2020,
          2021,
          2022,
          2023
         ],
         "y": [
          9.229899,
          7.5132055,
          8.749216,
          9.025211,
          8.73341,
          8.749464,
          9.418474,
          8.39841,
          9.1809435,
          10.547689,
          10.3180895,
          12.466525,
          12.184118,
          12.831115,
          13.35031,
          13.626135,
          15.288093,
          17.451527,
          17.44999,
          18.294624,
          20.315693,
          20.74287,
          22.350597,
          22.672834
         ]
        },
        {
         "line": {
          "color": "red"
         },
         "mode": "lines",
         "name": "United States Regression Line",
         "type": "scatter",
         "x": [
          2000,
          2001,
          2002,
          2003,
          2004,
          2005,
          2006,
          2007,
          2008,
          2009,
          2010,
          2011,
          2012,
          2013,
          2014,
          2015,
          2016,
          2017,
          2018,
          2019,
          2020,
          2021,
          2022,
          2023
         ],
         "y": [
          5.787657239999817,
          6.4397756050000226,
          7.091893970000001,
          7.744012334999979,
          8.396130699999958,
          9.048249064999936,
          9.700367429999915,
          10.352485794999893,
          11.004604159999872,
          11.65672252499985,
          12.308840889999829,
          12.960959254999807,
          13.613077620000013,
          14.265195984999991,
          14.91731434999997,
          15.569432714999948,
          16.221551079999927,
          16.873669444999905,
          17.525787809999883,
          18.177906174999862,
          18.83002453999984,
          19.48214290499982,
          20.134261270000025,
          20.786379635000003
         ]
        },
        {
         "line": {
          "color": "red",
          "dash": "dash"
         },
         "mode": "lines",
         "name": "United States Predicted Data",
         "type": "scatter",
         "x": [
          2020,
          2031
         ],
         "y": [
          20.134261270000025,
          26.00332655499983
         ]
        }
       ],
       "layout": {
        "template": {
         "data": {
          "bar": [
           {
            "error_x": {
             "color": "#2a3f5f"
            },
            "error_y": {
             "color": "#2a3f5f"
            },
            "marker": {
             "line": {
              "color": "white",
              "width": 0.5
             },
             "pattern": {
              "fillmode": "overlay",
              "size": 10,
              "solidity": 0.2
             }
            },
            "type": "bar"
           }
          ],
          "barpolar": [
           {
            "marker": {
             "line": {
              "color": "white",
              "width": 0.5
             },
             "pattern": {
              "fillmode": "overlay",
              "size": 10,
              "solidity": 0.2
             }
            },
            "type": "barpolar"
           }
          ],
          "carpet": [
           {
            "aaxis": {
             "endlinecolor": "#2a3f5f",
             "gridcolor": "#C8D4E3",
             "linecolor": "#C8D4E3",
             "minorgridcolor": "#C8D4E3",
             "startlinecolor": "#2a3f5f"
            },
            "baxis": {
             "endlinecolor": "#2a3f5f",
             "gridcolor": "#C8D4E3",
             "linecolor": "#C8D4E3",
             "minorgridcolor": "#C8D4E3",
             "startlinecolor": "#2a3f5f"
            },
            "type": "carpet"
           }
          ],
          "choropleth": [
           {
            "colorbar": {
             "outlinewidth": 0,
             "ticks": ""
            },
            "type": "choropleth"
           }
          ],
          "contour": [
           {
            "colorbar": {
             "outlinewidth": 0,
             "ticks": ""
            },
            "colorscale": [
             [
              0,
              "#0d0887"
             ],
             [
              0.1111111111111111,
              "#46039f"
             ],
             [
              0.2222222222222222,
              "#7201a8"
             ],
             [
              0.3333333333333333,
              "#9c179e"
             ],
             [
              0.4444444444444444,
              "#bd3786"
             ],
             [
              0.5555555555555556,
              "#d8576b"
             ],
             [
              0.6666666666666666,
              "#ed7953"
             ],
             [
              0.7777777777777778,
              "#fb9f3a"
             ],
             [
              0.8888888888888888,
              "#fdca26"
             ],
             [
              1,
              "#f0f921"
             ]
            ],
            "type": "contour"
           }
          ],
          "contourcarpet": [
           {
            "colorbar": {
             "outlinewidth": 0,
             "ticks": ""
            },
            "type": "contourcarpet"
           }
          ],
          "heatmap": [
           {
            "colorbar": {
             "outlinewidth": 0,
             "ticks": ""
            },
            "colorscale": [
             [
              0,
              "#0d0887"
             ],
             [
              0.1111111111111111,
              "#46039f"
             ],
             [
              0.2222222222222222,
              "#7201a8"
             ],
             [
              0.3333333333333333,
              "#9c179e"
             ],
             [
              0.4444444444444444,
              "#bd3786"
             ],
             [
              0.5555555555555556,
              "#d8576b"
             ],
             [
              0.6666666666666666,
              "#ed7953"
             ],
             [
              0.7777777777777778,
              "#fb9f3a"
             ],
             [
              0.8888888888888888,
              "#fdca26"
             ],
             [
              1,
              "#f0f921"
             ]
            ],
            "type": "heatmap"
           }
          ],
          "heatmapgl": [
           {
            "colorbar": {
             "outlinewidth": 0,
             "ticks": ""
            },
            "colorscale": [
             [
              0,
              "#0d0887"
             ],
             [
              0.1111111111111111,
              "#46039f"
             ],
             [
              0.2222222222222222,
              "#7201a8"
             ],
             [
              0.3333333333333333,
              "#9c179e"
             ],
             [
              0.4444444444444444,
              "#bd3786"
             ],
             [
              0.5555555555555556,
              "#d8576b"
             ],
             [
              0.6666666666666666,
              "#ed7953"
             ],
             [
              0.7777777777777778,
              "#fb9f3a"
             ],
             [
              0.8888888888888888,
              "#fdca26"
             ],
             [
              1,
              "#f0f921"
             ]
            ],
            "type": "heatmapgl"
           }
          ],
          "histogram": [
           {
            "marker": {
             "pattern": {
              "fillmode": "overlay",
              "size": 10,
              "solidity": 0.2
             }
            },
            "type": "histogram"
           }
          ],
          "histogram2d": [
           {
            "colorbar": {
             "outlinewidth": 0,
             "ticks": ""
            },
            "colorscale": [
             [
              0,
              "#0d0887"
             ],
             [
              0.1111111111111111,
              "#46039f"
             ],
             [
              0.2222222222222222,
              "#7201a8"
             ],
             [
              0.3333333333333333,
              "#9c179e"
             ],
             [
              0.4444444444444444,
              "#bd3786"
             ],
             [
              0.5555555555555556,
              "#d8576b"
             ],
             [
              0.6666666666666666,
              "#ed7953"
             ],
             [
              0.7777777777777778,
              "#fb9f3a"
             ],
             [
              0.8888888888888888,
              "#fdca26"
             ],
             [
              1,
              "#f0f921"
             ]
            ],
            "type": "histogram2d"
           }
          ],
          "histogram2dcontour": [
           {
            "colorbar": {
             "outlinewidth": 0,
             "ticks": ""
            },
            "colorscale": [
             [
              0,
              "#0d0887"
             ],
             [
              0.1111111111111111,
              "#46039f"
             ],
             [
              0.2222222222222222,
              "#7201a8"
             ],
             [
              0.3333333333333333,
              "#9c179e"
             ],
             [
              0.4444444444444444,
              "#bd3786"
             ],
             [
              0.5555555555555556,
              "#d8576b"
             ],
             [
              0.6666666666666666,
              "#ed7953"
             ],
             [
              0.7777777777777778,
              "#fb9f3a"
             ],
             [
              0.8888888888888888,
              "#fdca26"
             ],
             [
              1,
              "#f0f921"
             ]
            ],
            "type": "histogram2dcontour"
           }
          ],
          "mesh3d": [
           {
            "colorbar": {
             "outlinewidth": 0,
             "ticks": ""
            },
            "type": "mesh3d"
           }
          ],
          "parcoords": [
           {
            "line": {
             "colorbar": {
              "outlinewidth": 0,
              "ticks": ""
             }
            },
            "type": "parcoords"
           }
          ],
          "pie": [
           {
            "automargin": true,
            "type": "pie"
           }
          ],
          "scatter": [
           {
            "fillpattern": {
             "fillmode": "overlay",
             "size": 10,
             "solidity": 0.2
            },
            "type": "scatter"
           }
          ],
          "scatter3d": [
           {
            "line": {
             "colorbar": {
              "outlinewidth": 0,
              "ticks": ""
             }
            },
            "marker": {
             "colorbar": {
              "outlinewidth": 0,
              "ticks": ""
             }
            },
            "type": "scatter3d"
           }
          ],
          "scattercarpet": [
           {
            "marker": {
             "colorbar": {
              "outlinewidth": 0,
              "ticks": ""
             }
            },
            "type": "scattercarpet"
           }
          ],
          "scattergeo": [
           {
            "marker": {
             "colorbar": {
              "outlinewidth": 0,
              "ticks": ""
             }
            },
            "type": "scattergeo"
           }
          ],
          "scattergl": [
           {
            "marker": {
             "colorbar": {
              "outlinewidth": 0,
              "ticks": ""
             }
            },
            "type": "scattergl"
           }
          ],
          "scattermapbox": [
           {
            "marker": {
             "colorbar": {
              "outlinewidth": 0,
              "ticks": ""
             }
            },
            "type": "scattermapbox"
           }
          ],
          "scatterpolar": [
           {
            "marker": {
             "colorbar": {
              "outlinewidth": 0,
              "ticks": ""
             }
            },
            "type": "scatterpolar"
           }
          ],
          "scatterpolargl": [
           {
            "marker": {
             "colorbar": {
              "outlinewidth": 0,
              "ticks": ""
             }
            },
            "type": "scatterpolargl"
           }
          ],
          "scatterternary": [
           {
            "marker": {
             "colorbar": {
              "outlinewidth": 0,
              "ticks": ""
             }
            },
            "type": "scatterternary"
           }
          ],
          "surface": [
           {
            "colorbar": {
             "outlinewidth": 0,
             "ticks": ""
            },
            "colorscale": [
             [
              0,
              "#0d0887"
             ],
             [
              0.1111111111111111,
              "#46039f"
             ],
             [
              0.2222222222222222,
              "#7201a8"
             ],
             [
              0.3333333333333333,
              "#9c179e"
             ],
             [
              0.4444444444444444,
              "#bd3786"
             ],
             [
              0.5555555555555556,
              "#d8576b"
             ],
             [
              0.6666666666666666,
              "#ed7953"
             ],
             [
              0.7777777777777778,
              "#fb9f3a"
             ],
             [
              0.8888888888888888,
              "#fdca26"
             ],
             [
              1,
              "#f0f921"
             ]
            ],
            "type": "surface"
           }
          ],
          "table": [
           {
            "cells": {
             "fill": {
              "color": "#EBF0F8"
             },
             "line": {
              "color": "white"
             }
            },
            "header": {
             "fill": {
              "color": "#C8D4E3"
             },
             "line": {
              "color": "white"
             }
            },
            "type": "table"
           }
          ]
         },
         "layout": {
          "annotationdefaults": {
           "arrowcolor": "#2a3f5f",
           "arrowhead": 0,
           "arrowwidth": 1
          },
          "autotypenumbers": "strict",
          "coloraxis": {
           "colorbar": {
            "outlinewidth": 0,
            "ticks": ""
           }
          },
          "colorscale": {
           "diverging": [
            [
             0,
             "#8e0152"
            ],
            [
             0.1,
             "#c51b7d"
            ],
            [
             0.2,
             "#de77ae"
            ],
            [
             0.3,
             "#f1b6da"
            ],
            [
             0.4,
             "#fde0ef"
            ],
            [
             0.5,
             "#f7f7f7"
            ],
            [
             0.6,
             "#e6f5d0"
            ],
            [
             0.7,
             "#b8e186"
            ],
            [
             0.8,
             "#7fbc41"
            ],
            [
             0.9,
             "#4d9221"
            ],
            [
             1,
             "#276419"
            ]
           ],
           "sequential": [
            [
             0,
             "#0d0887"
            ],
            [
             0.1111111111111111,
             "#46039f"
            ],
            [
             0.2222222222222222,
             "#7201a8"
            ],
            [
             0.3333333333333333,
             "#9c179e"
            ],
            [
             0.4444444444444444,
             "#bd3786"
            ],
            [
             0.5555555555555556,
             "#d8576b"
            ],
            [
             0.6666666666666666,
             "#ed7953"
            ],
            [
             0.7777777777777778,
             "#fb9f3a"
            ],
            [
             0.8888888888888888,
             "#fdca26"
            ],
            [
             1,
             "#f0f921"
            ]
           ],
           "sequentialminus": [
            [
             0,
             "#0d0887"
            ],
            [
             0.1111111111111111,
             "#46039f"
            ],
            [
             0.2222222222222222,
             "#7201a8"
            ],
            [
             0.3333333333333333,
             "#9c179e"
            ],
            [
             0.4444444444444444,
             "#bd3786"
            ],
            [
             0.5555555555555556,
             "#d8576b"
            ],
            [
             0.6666666666666666,
             "#ed7953"
            ],
            [
             0.7777777777777778,
             "#fb9f3a"
            ],
            [
             0.8888888888888888,
             "#fdca26"
            ],
            [
             1,
             "#f0f921"
            ]
           ]
          },
          "colorway": [
           "#636efa",
           "#EF553B",
           "#00cc96",
           "#ab63fa",
           "#FFA15A",
           "#19d3f3",
           "#FF6692",
           "#B6E880",
           "#FF97FF",
           "#FECB52"
          ],
          "font": {
           "color": "#2a3f5f"
          },
          "geo": {
           "bgcolor": "white",
           "lakecolor": "white",
           "landcolor": "white",
           "showlakes": true,
           "showland": true,
           "subunitcolor": "#C8D4E3"
          },
          "hoverlabel": {
           "align": "left"
          },
          "hovermode": "closest",
          "mapbox": {
           "style": "light"
          },
          "paper_bgcolor": "white",
          "plot_bgcolor": "white",
          "polar": {
           "angularaxis": {
            "gridcolor": "#EBF0F8",
            "linecolor": "#EBF0F8",
            "ticks": ""
           },
           "bgcolor": "white",
           "radialaxis": {
            "gridcolor": "#EBF0F8",
            "linecolor": "#EBF0F8",
            "ticks": ""
           }
          },
          "scene": {
           "xaxis": {
            "backgroundcolor": "white",
            "gridcolor": "#DFE8F3",
            "gridwidth": 2,
            "linecolor": "#EBF0F8",
            "showbackground": true,
            "ticks": "",
            "zerolinecolor": "#EBF0F8"
           },
           "yaxis": {
            "backgroundcolor": "white",
            "gridcolor": "#DFE8F3",
            "gridwidth": 2,
            "linecolor": "#EBF0F8",
            "showbackground": true,
            "ticks": "",
            "zerolinecolor": "#EBF0F8"
           },
           "zaxis": {
            "backgroundcolor": "white",
            "gridcolor": "#DFE8F3",
            "gridwidth": 2,
            "linecolor": "#EBF0F8",
            "showbackground": true,
            "ticks": "",
            "zerolinecolor": "#EBF0F8"
           }
          },
          "shapedefaults": {
           "line": {
            "color": "#2a3f5f"
           }
          },
          "ternary": {
           "aaxis": {
            "gridcolor": "#DFE8F3",
            "linecolor": "#A2B1C6",
            "ticks": ""
           },
           "baxis": {
            "gridcolor": "#DFE8F3",
            "linecolor": "#A2B1C6",
            "ticks": ""
           },
           "bgcolor": "white",
           "caxis": {
            "gridcolor": "#DFE8F3",
            "linecolor": "#A2B1C6",
            "ticks": ""
           }
          },
          "title": {
           "x": 0.05
          },
          "xaxis": {
           "automargin": true,
           "gridcolor": "#EBF0F8",
           "linecolor": "#EBF0F8",
           "ticks": "",
           "title": {
            "standoff": 15
           },
           "zerolinecolor": "#EBF0F8",
           "zerolinewidth": 2
          },
          "yaxis": {
           "automargin": true,
           "gridcolor": "#EBF0F8",
           "linecolor": "#EBF0F8",
           "ticks": "",
           "title": {
            "standoff": 15
           },
           "zerolinecolor": "#EBF0F8",
           "zerolinewidth": 2
          }
         }
        },
        "title": {
         "text": "Renewable Energy Share Predictions (2020-2031) for Top 5 Countries with Regression (2010-2019)"
        },
        "xaxis": {
         "title": {
          "text": "Year"
         }
        },
        "yaxis": {
         "title": {
          "text": "Renewable Energy Share (%)"
         }
        }
       }
      }
     },
     "metadata": {},
     "output_type": "display_data"
    }
   ],
   "source": [
    "# TOP 5 COUNTRIES (Starting 2010)\n",
    "\n",
    "import pandas as pd\n",
    "import numpy as np\n",
    "import plotly.graph_objs as go\n",
    "from sklearn.linear_model import LinearRegression\n",
    "from sklearn.metrics import r2_score, mean_squared_error\n",
    "\n",
    "countries = ['China', 'United States', 'India', 'Japan', 'Germany']\n",
    "\n",
    "# Filter the dataframe for the five countries and select the relevant columns\n",
    "df_filtered = df[(df['Entity'].isin(countries)) & (df['Year'] >= 2000)]\n",
    "\n",
    "# Create a list for the years we want to predict (2020 and 2031)\n",
    "years_to_predict = np.array([2022, 2031]).reshape(-1, 1)\n",
    "\n",
    "# Create an empty list to store the plot traces\n",
    "plot_traces = []\n",
    "\n",
    "# Define a list of colors for each country\n",
    "colors = ['blue', 'green', 'orange', 'purple', 'red']\n",
    "\n",
    "# Iterate over the top five countries in the dataset\n",
    "for idx, country in enumerate(df_filtered['Entity'].unique()):\n",
    "    country_data = df_filtered[df_filtered['Entity'] == country]\n",
    "    \n",
    "    # Prepare the feature (year) and target (Renewable energy share)\n",
    "    X = country_data[['Year']]\n",
    "    y = country_data['Renewables - % electricity']\n",
    "    \n",
    "    # Initialize the linear regression model\n",
    "    model = LinearRegression()\n",
    "    \n",
    "    # Train the model on the available data (years 2010 to 2019)\n",
    "    model.fit(X, y)\n",
    "    \n",
    "    # Make predictions for the years 2020 and 2031\n",
    "    predictions = model.predict(years_to_predict)\n",
    "    \n",
    "    # Create scatter plot for actual data (from 2010 to 2019)\n",
    "    plot_traces.append(go.Scatter(\n",
    "        x=country_data['Year'],\n",
    "        y=y,\n",
    "        mode='markers',\n",
    "        marker=dict(color=colors[idx]),\n",
    "        name=f'{country} Actual Data (Scatter)'\n",
    "    ))\n",
    "\n",
    "    # Create a line plot for actual data regression (from 2010 to 2019)\n",
    "    y_pred = model.predict(X)\n",
    "    plot_traces.append(go.Scatter(\n",
    "        x=country_data['Year'],\n",
    "        y=y_pred,\n",
    "        mode='lines',\n",
    "        line=dict(color=colors[idx]),\n",
    "        name=f'{country} Regression Line'\n",
    "    ))\n",
    "\n",
    "    # Create a trace for predicted data (dashed line for predictions)\n",
    "    plot_traces.append(go.Scatter(\n",
    "        x=[2020, 2031],\n",
    "        y=predictions,\n",
    "        mode='lines',\n",
    "        line=dict(dash='dash', color=colors[idx]),\n",
    "        name=f'{country} Predicted Data'\n",
    "    ))\n",
    "\n",
    "    # Model evaluation (R² and MSE)\n",
    "    r2 = r2_score(y, y_pred)\n",
    "    mse = mean_squared_error(y, y_pred)\n",
    "    \n",
    "    print(f'{country} Model Performance:')\n",
    "    print(f'R-squared: {r2:.2f}')\n",
    "    print(f'Mean Squared Error: {mse:.2f}')\n",
    "    print('--------------------------')\n",
    "\n",
    "# Create the layout for the plot\n",
    "layout = go.Layout(\n",
    "    title='Renewable Energy Share Predictions (2020-2031) for Top 5 Countries with Regression (2010-2019)',\n",
    "    xaxis=dict(title='Year'),\n",
    "    yaxis=dict(title='Renewable Energy Share (%)'),\n",
    "    template=\"plotly_white\"\n",
    ")\n",
    "\n",
    "# Create the figure with the plot traces\n",
    "fig = go.Figure(data=plot_traces, layout=layout)\n",
    "\n",
    "# Show the plot\n",
    "fig.show()\n"
   ]
  },
  {
   "cell_type": "code",
   "execution_count": 54,
   "metadata": {},
   "outputs": [
    {
     "ename": "SyntaxError",
     "evalue": "incomplete input (3305331285.py, line 5)",
     "output_type": "error",
     "traceback": [
      "\u001b[1;36m  Cell \u001b[1;32mIn[54], line 5\u001b[1;36m\u001b[0m\n\u001b[1;33m    \\\u001b[0m\n\u001b[1;37m     ^\u001b[0m\n\u001b[1;31mSyntaxError\u001b[0m\u001b[1;31m:\u001b[0m incomplete input\n"
     ]
    }
   ],
   "source": [
    "df=pd.read_csv('data/lowest_df_cleaned.csv')\n",
    "df.isna().sum()\n",
    "\n",
    "df['Access to electricity (% of population)'].corr(df['gdp_per_capita'])\n",
    "\\\n"
   ]
  },
  {
   "cell_type": "code",
   "execution_count": 57,
   "metadata": {},
   "outputs": [
    {
     "data": {
      "text/plain": [
       "Index(['Unnamed: 0', 'Entity', 'Year',\n",
       "       'Access to electricity (% of population)',\n",
       "       'Access to clean fuels for cooking',\n",
       "       'Renewable-electricity-generating-capacity-per-capita',\n",
       "       'Renewable energy share in the total final energy consumption (%)',\n",
       "       'Electricity from fossil fuels (TWh)', 'Electricity from nuclear (TWh)',\n",
       "       'Electricity from renewables (TWh)',\n",
       "       'Low-carbon electricity (% electricity)',\n",
       "       'Primary energy consumption per capita (kWh/person)', 'gdp_growth',\n",
       "       'gdp_per_capita'],\n",
       "      dtype='object')"
      ]
     },
     "execution_count": 57,
     "metadata": {},
     "output_type": "execute_result"
    }
   ],
   "source": [
    "df.columns"
   ]
  },
  {
   "cell_type": "code",
   "execution_count": 58,
   "metadata": {},
   "outputs": [
    {
     "data": {
      "image/png": "[encoded data removed]",
      "text/plain": [
       "<Figure size 1000x600 with 1 Axes>"
      ]
     },
     "metadata": {},
     "output_type": "display_data"
    }
   ],
   "source": [
    "import matplotlib.pyplot as plt\n",
    "\n",
    "# Example of plotting Access to electricity over time\n",
    "plt.figure(figsize=(10, 6))\n",
    "plt.plot(df['Year'], df['Access to electricity (% of population)'], label='Access to electricity')\n",
    "plt.plot(df['Year'], df['gdp_per_capita'], label='GDP per capita')\n",
    "plt.plot(df['Year'], df['Renewable-electricity-generating-capacity-per-capita'], label='Renewable capacity per capita')\n",
    "plt.plot(df['Year'], df['gdp_growth'], label='GDP Growth')\n",
    "plt.plot(df['Year'], df['Electricity from fossil fuels (TWh)'], label='Electricity from fossil fuels')\n",
    "plt.xlabel('Year')\n",
    "plt.ylabel('Value')\n",
    "plt.title('Variables over Time')\n",
    "plt.legend()\n",
    "plt.show()\n"
   ]
  }
 ],
 "metadata": {
  "kernelspec": {
   "display_name": "Python 3",
   "language": "python",
   "name": "python3"
  },
  "language_info": {
   "codemirror_mode": {
    "name": "ipython",
    "version": 3
   },
   "file_extension": ".py",
   "mimetype": "text/x-python",
   "name": "python",
   "nbconvert_exporter": "python",
   "pygments_lexer": "ipython3",
   "version": "3.12.3"
  }
 },
 "nbformat": 4,
 "nbformat_minor": 2
}
